{
 "cells": [
  {
   "cell_type": "code",
   "execution_count": 1,
   "metadata": {},
   "outputs": [],
   "source": [
    "import numpy as np\n",
    "import matplotlib.pyplot as plt\n",
    "import pandas as pd"
   ]
  },
  {
   "cell_type": "code",
   "execution_count": 2,
   "metadata": {},
   "outputs": [],
   "source": [
    "dataset = pd.read_csv('OR.csv')"
   ]
  },
  {
   "cell_type": "code",
   "execution_count": 3,
   "metadata": {},
   "outputs": [
    {
     "data": {
      "text/html": [
       "<div>\n",
       "<style scoped>\n",
       "    .dataframe tbody tr th:only-of-type {\n",
       "        vertical-align: middle;\n",
       "    }\n",
       "\n",
       "    .dataframe tbody tr th {\n",
       "        vertical-align: top;\n",
       "    }\n",
       "\n",
       "    .dataframe thead th {\n",
       "        text-align: right;\n",
       "    }\n",
       "</style>\n",
       "<table border=\"1\" class=\"dataframe\">\n",
       "  <thead>\n",
       "    <tr style=\"text-align: right;\">\n",
       "      <th></th>\n",
       "      <th>Date</th>\n",
       "      <th>Confirmed</th>\n",
       "      <th>Recovered</th>\n",
       "      <th>Decreased</th>\n",
       "    </tr>\n",
       "  </thead>\n",
       "  <tbody>\n",
       "    <tr>\n",
       "      <th>0</th>\n",
       "      <td>14-Mar-20</td>\n",
       "      <td>0</td>\n",
       "      <td>0</td>\n",
       "      <td>0</td>\n",
       "    </tr>\n",
       "    <tr>\n",
       "      <th>1</th>\n",
       "      <td>15-Mar-20</td>\n",
       "      <td>0</td>\n",
       "      <td>0</td>\n",
       "      <td>0</td>\n",
       "    </tr>\n",
       "    <tr>\n",
       "      <th>2</th>\n",
       "      <td>16-Mar-20</td>\n",
       "      <td>1</td>\n",
       "      <td>0</td>\n",
       "      <td>0</td>\n",
       "    </tr>\n",
       "    <tr>\n",
       "      <th>3</th>\n",
       "      <td>17-Mar-20</td>\n",
       "      <td>0</td>\n",
       "      <td>0</td>\n",
       "      <td>0</td>\n",
       "    </tr>\n",
       "    <tr>\n",
       "      <th>4</th>\n",
       "      <td>18-Mar-20</td>\n",
       "      <td>1</td>\n",
       "      <td>0</td>\n",
       "      <td>0</td>\n",
       "    </tr>\n",
       "    <tr>\n",
       "      <th>...</th>\n",
       "      <td>...</td>\n",
       "      <td>...</td>\n",
       "      <td>...</td>\n",
       "      <td>...</td>\n",
       "    </tr>\n",
       "    <tr>\n",
       "      <th>99</th>\n",
       "      <td>21-Jun-20</td>\n",
       "      <td>304</td>\n",
       "      <td>186</td>\n",
       "      <td>4</td>\n",
       "    </tr>\n",
       "    <tr>\n",
       "      <th>100</th>\n",
       "      <td>22-Jun-20</td>\n",
       "      <td>143</td>\n",
       "      <td>143</td>\n",
       "      <td>2</td>\n",
       "    </tr>\n",
       "    <tr>\n",
       "      <th>101</th>\n",
       "      <td>23-Jun-20</td>\n",
       "      <td>167</td>\n",
       "      <td>125</td>\n",
       "      <td>3</td>\n",
       "    </tr>\n",
       "    <tr>\n",
       "      <th>102</th>\n",
       "      <td>24-Jun-20</td>\n",
       "      <td>282</td>\n",
       "      <td>135</td>\n",
       "      <td>0</td>\n",
       "    </tr>\n",
       "    <tr>\n",
       "      <th>103</th>\n",
       "      <td>25-Jun-20</td>\n",
       "      <td>210</td>\n",
       "      <td>168</td>\n",
       "      <td>0</td>\n",
       "    </tr>\n",
       "  </tbody>\n",
       "</table>\n",
       "<p>104 rows × 4 columns</p>\n",
       "</div>"
      ],
      "text/plain": [
       "          Date  Confirmed  Recovered  Decreased\n",
       "0    14-Mar-20          0          0          0\n",
       "1    15-Mar-20          0          0          0\n",
       "2    16-Mar-20          1          0          0\n",
       "3    17-Mar-20          0          0          0\n",
       "4    18-Mar-20          1          0          0\n",
       "..         ...        ...        ...        ...\n",
       "99   21-Jun-20        304        186          4\n",
       "100  22-Jun-20        143        143          2\n",
       "101  23-Jun-20        167        125          3\n",
       "102  24-Jun-20        282        135          0\n",
       "103  25-Jun-20        210        168          0\n",
       "\n",
       "[104 rows x 4 columns]"
      ]
     },
     "execution_count": 3,
     "metadata": {},
     "output_type": "execute_result"
    }
   ],
   "source": [
    "dataset"
   ]
  },
  {
   "cell_type": "code",
   "execution_count": 4,
   "metadata": {},
   "outputs": [
    {
     "data": {
      "text/plain": [
       "0      14-Mar-20\n",
       "1      15-Mar-20\n",
       "2      16-Mar-20\n",
       "3      17-Mar-20\n",
       "4      18-Mar-20\n",
       "         ...    \n",
       "99     21-Jun-20\n",
       "100    22-Jun-20\n",
       "101    23-Jun-20\n",
       "102    24-Jun-20\n",
       "103    25-Jun-20\n",
       "Name: Date, Length: 104, dtype: object"
      ]
     },
     "execution_count": 4,
     "metadata": {},
     "output_type": "execute_result"
    }
   ],
   "source": [
    "dataset['Date']"
   ]
  },
  {
   "cell_type": "code",
   "execution_count": 5,
   "metadata": {},
   "outputs": [],
   "source": [
    "dataset['Date'] = pd.to_datetime(dataset['Date'])"
   ]
  },
  {
   "cell_type": "code",
   "execution_count": 6,
   "metadata": {},
   "outputs": [],
   "source": [
    "# X = dataset.iloc[:, 0:1].values\n",
    "# y = dataset.iloc[:, -1].values"
   ]
  },
  {
   "cell_type": "code",
   "execution_count": 7,
   "metadata": {},
   "outputs": [],
   "source": [
    "# X"
   ]
  },
  {
   "cell_type": "code",
   "execution_count": 8,
   "metadata": {},
   "outputs": [],
   "source": [
    "# X.size"
   ]
  },
  {
   "cell_type": "code",
   "execution_count": 9,
   "metadata": {},
   "outputs": [],
   "source": [
    "# X.shape"
   ]
  },
  {
   "cell_type": "code",
   "execution_count": 10,
   "metadata": {},
   "outputs": [],
   "source": [
    "X_train = dataset[(dataset['Date'] > '2020-03-14T00:00:00.000000000') & (dataset['Date'] <= '2020-06-07T00:00:00.000000000')]\n",
    "X_test = dataset[dataset['Date'] > '2020-06-07T00:00:00.000000000']"
   ]
  },
  {
   "cell_type": "code",
   "execution_count": 11,
   "metadata": {},
   "outputs": [],
   "source": [
    "X_train = X_train['Date'].values\n",
    "X_test = X_test['Date'].values"
   ]
  },
  {
   "cell_type": "code",
   "execution_count": 12,
   "metadata": {},
   "outputs": [
    {
     "data": {
      "text/plain": [
       "array(['2020-03-15T00:00:00.000000000', '2020-03-16T00:00:00.000000000',\n",
       "       '2020-03-17T00:00:00.000000000', '2020-03-18T00:00:00.000000000',\n",
       "       '2020-03-19T00:00:00.000000000', '2020-03-20T00:00:00.000000000',\n",
       "       '2020-03-21T00:00:00.000000000', '2020-03-22T00:00:00.000000000',\n",
       "       '2020-03-23T00:00:00.000000000', '2020-03-24T00:00:00.000000000',\n",
       "       '2020-03-25T00:00:00.000000000', '2020-03-26T00:00:00.000000000',\n",
       "       '2020-03-27T00:00:00.000000000', '2020-03-28T00:00:00.000000000',\n",
       "       '2020-03-29T00:00:00.000000000', '2020-03-30T00:00:00.000000000',\n",
       "       '2020-03-31T00:00:00.000000000', '2020-04-01T00:00:00.000000000',\n",
       "       '2020-04-02T00:00:00.000000000', '2020-04-03T00:00:00.000000000',\n",
       "       '2020-04-04T00:00:00.000000000', '2020-04-05T00:00:00.000000000',\n",
       "       '2020-04-06T00:00:00.000000000', '2020-04-07T00:00:00.000000000',\n",
       "       '2020-04-08T00:00:00.000000000', '2020-04-09T00:00:00.000000000',\n",
       "       '2020-04-10T00:00:00.000000000', '2020-04-11T00:00:00.000000000',\n",
       "       '2020-04-12T00:00:00.000000000', '2020-04-13T00:00:00.000000000',\n",
       "       '2020-04-14T00:00:00.000000000', '2020-04-15T00:00:00.000000000',\n",
       "       '2020-04-16T00:00:00.000000000', '2020-04-17T00:00:00.000000000',\n",
       "       '2020-04-18T00:00:00.000000000', '2020-04-19T00:00:00.000000000',\n",
       "       '2020-04-20T00:00:00.000000000', '2020-04-21T00:00:00.000000000',\n",
       "       '2020-04-22T00:00:00.000000000', '2020-04-23T00:00:00.000000000',\n",
       "       '2020-04-24T00:00:00.000000000', '2020-04-25T00:00:00.000000000',\n",
       "       '2020-04-26T00:00:00.000000000', '2020-04-27T00:00:00.000000000',\n",
       "       '2020-04-28T00:00:00.000000000', '2020-04-29T00:00:00.000000000',\n",
       "       '2020-04-30T00:00:00.000000000', '2020-05-01T00:00:00.000000000',\n",
       "       '2020-05-02T00:00:00.000000000', '2020-05-03T00:00:00.000000000',\n",
       "       '2020-05-04T00:00:00.000000000', '2020-05-05T00:00:00.000000000',\n",
       "       '2020-05-06T00:00:00.000000000', '2020-05-07T00:00:00.000000000',\n",
       "       '2020-05-08T00:00:00.000000000', '2020-05-09T00:00:00.000000000',\n",
       "       '2020-05-10T00:00:00.000000000', '2020-05-11T00:00:00.000000000',\n",
       "       '2020-05-12T00:00:00.000000000', '2020-05-13T00:00:00.000000000',\n",
       "       '2020-05-14T00:00:00.000000000', '2020-05-15T00:00:00.000000000',\n",
       "       '2020-05-16T00:00:00.000000000', '2020-05-17T00:00:00.000000000',\n",
       "       '2020-05-18T00:00:00.000000000', '2020-05-19T00:00:00.000000000',\n",
       "       '2020-05-20T00:00:00.000000000', '2020-05-21T00:00:00.000000000',\n",
       "       '2020-05-22T00:00:00.000000000', '2020-05-23T00:00:00.000000000',\n",
       "       '2020-05-24T00:00:00.000000000', '2020-05-25T00:00:00.000000000',\n",
       "       '2020-05-26T00:00:00.000000000', '2020-05-27T00:00:00.000000000',\n",
       "       '2020-05-28T00:00:00.000000000', '2020-05-29T00:00:00.000000000',\n",
       "       '2020-05-30T00:00:00.000000000', '2020-05-31T00:00:00.000000000',\n",
       "       '2020-06-01T00:00:00.000000000', '2020-06-02T00:00:00.000000000',\n",
       "       '2020-06-03T00:00:00.000000000', '2020-06-04T00:00:00.000000000',\n",
       "       '2020-06-05T00:00:00.000000000', '2020-06-06T00:00:00.000000000',\n",
       "       '2020-06-07T00:00:00.000000000'], dtype='datetime64[ns]')"
      ]
     },
     "execution_count": 12,
     "metadata": {},
     "output_type": "execute_result"
    }
   ],
   "source": [
    "X_train"
   ]
  },
  {
   "cell_type": "code",
   "execution_count": 13,
   "metadata": {},
   "outputs": [
    {
     "data": {
      "text/plain": [
       "array(['2020-06-08T00:00:00.000000000', '2020-06-09T00:00:00.000000000',\n",
       "       '2020-06-10T00:00:00.000000000', '2020-06-11T00:00:00.000000000',\n",
       "       '2020-06-12T00:00:00.000000000', '2020-06-13T00:00:00.000000000',\n",
       "       '2020-06-14T00:00:00.000000000', '2020-06-15T00:00:00.000000000',\n",
       "       '2020-06-16T00:00:00.000000000', '2020-06-17T00:00:00.000000000',\n",
       "       '2020-06-18T00:00:00.000000000', '2020-06-19T00:00:00.000000000',\n",
       "       '2020-06-20T00:00:00.000000000', '2020-06-21T00:00:00.000000000',\n",
       "       '2020-06-22T00:00:00.000000000', '2020-06-23T00:00:00.000000000',\n",
       "       '2020-06-24T00:00:00.000000000', '2020-06-25T00:00:00.000000000'],\n",
       "      dtype='datetime64[ns]')"
      ]
     },
     "execution_count": 13,
     "metadata": {},
     "output_type": "execute_result"
    }
   ],
   "source": [
    "X_test"
   ]
  },
  {
   "cell_type": "code",
   "execution_count": 14,
   "metadata": {},
   "outputs": [
    {
     "data": {
      "text/plain": [
       "(85,)"
      ]
     },
     "execution_count": 14,
     "metadata": {},
     "output_type": "execute_result"
    }
   ],
   "source": [
    "X_train.shape"
   ]
  },
  {
   "cell_type": "code",
   "execution_count": 15,
   "metadata": {},
   "outputs": [
    {
     "data": {
      "text/plain": [
       "(18,)"
      ]
     },
     "execution_count": 15,
     "metadata": {},
     "output_type": "execute_result"
    }
   ],
   "source": [
    "X_test.shape"
   ]
  },
  {
   "cell_type": "code",
   "execution_count": 16,
   "metadata": {},
   "outputs": [],
   "source": [
    "X_train = X_train.reshape(-1,1)\n",
    "X_test = X_test.reshape(-1,1)"
   ]
  },
  {
   "cell_type": "code",
   "execution_count": 17,
   "metadata": {},
   "outputs": [
    {
     "data": {
      "text/plain": [
       "85"
      ]
     },
     "execution_count": 17,
     "metadata": {},
     "output_type": "execute_result"
    }
   ],
   "source": [
    "X_train.size"
   ]
  },
  {
   "cell_type": "code",
   "execution_count": 18,
   "metadata": {},
   "outputs": [
    {
     "data": {
      "text/plain": [
       "18"
      ]
     },
     "execution_count": 18,
     "metadata": {},
     "output_type": "execute_result"
    }
   ],
   "source": [
    "X_test.size"
   ]
  },
  {
   "cell_type": "code",
   "execution_count": 19,
   "metadata": {},
   "outputs": [
    {
     "data": {
      "text/plain": [
       "(85, 1)"
      ]
     },
     "execution_count": 19,
     "metadata": {},
     "output_type": "execute_result"
    }
   ],
   "source": [
    "X_train.shape"
   ]
  },
  {
   "cell_type": "code",
   "execution_count": 20,
   "metadata": {},
   "outputs": [
    {
     "data": {
      "text/plain": [
       "(18, 1)"
      ]
     },
     "execution_count": 20,
     "metadata": {},
     "output_type": "execute_result"
    }
   ],
   "source": [
    "X_test.shape"
   ]
  },
  {
   "cell_type": "code",
   "execution_count": 21,
   "metadata": {},
   "outputs": [
    {
     "data": {
      "text/plain": [
       "array([['2020-03-15T00:00:00.000000000'],\n",
       "       ['2020-03-16T00:00:00.000000000'],\n",
       "       ['2020-03-17T00:00:00.000000000'],\n",
       "       ['2020-03-18T00:00:00.000000000'],\n",
       "       ['2020-03-19T00:00:00.000000000'],\n",
       "       ['2020-03-20T00:00:00.000000000'],\n",
       "       ['2020-03-21T00:00:00.000000000'],\n",
       "       ['2020-03-22T00:00:00.000000000'],\n",
       "       ['2020-03-23T00:00:00.000000000'],\n",
       "       ['2020-03-24T00:00:00.000000000'],\n",
       "       ['2020-03-25T00:00:00.000000000'],\n",
       "       ['2020-03-26T00:00:00.000000000'],\n",
       "       ['2020-03-27T00:00:00.000000000'],\n",
       "       ['2020-03-28T00:00:00.000000000'],\n",
       "       ['2020-03-29T00:00:00.000000000'],\n",
       "       ['2020-03-30T00:00:00.000000000'],\n",
       "       ['2020-03-31T00:00:00.000000000'],\n",
       "       ['2020-04-01T00:00:00.000000000'],\n",
       "       ['2020-04-02T00:00:00.000000000'],\n",
       "       ['2020-04-03T00:00:00.000000000'],\n",
       "       ['2020-04-04T00:00:00.000000000'],\n",
       "       ['2020-04-05T00:00:00.000000000'],\n",
       "       ['2020-04-06T00:00:00.000000000'],\n",
       "       ['2020-04-07T00:00:00.000000000'],\n",
       "       ['2020-04-08T00:00:00.000000000'],\n",
       "       ['2020-04-09T00:00:00.000000000'],\n",
       "       ['2020-04-10T00:00:00.000000000'],\n",
       "       ['2020-04-11T00:00:00.000000000'],\n",
       "       ['2020-04-12T00:00:00.000000000'],\n",
       "       ['2020-04-13T00:00:00.000000000'],\n",
       "       ['2020-04-14T00:00:00.000000000'],\n",
       "       ['2020-04-15T00:00:00.000000000'],\n",
       "       ['2020-04-16T00:00:00.000000000'],\n",
       "       ['2020-04-17T00:00:00.000000000'],\n",
       "       ['2020-04-18T00:00:00.000000000'],\n",
       "       ['2020-04-19T00:00:00.000000000'],\n",
       "       ['2020-04-20T00:00:00.000000000'],\n",
       "       ['2020-04-21T00:00:00.000000000'],\n",
       "       ['2020-04-22T00:00:00.000000000'],\n",
       "       ['2020-04-23T00:00:00.000000000'],\n",
       "       ['2020-04-24T00:00:00.000000000'],\n",
       "       ['2020-04-25T00:00:00.000000000'],\n",
       "       ['2020-04-26T00:00:00.000000000'],\n",
       "       ['2020-04-27T00:00:00.000000000'],\n",
       "       ['2020-04-28T00:00:00.000000000'],\n",
       "       ['2020-04-29T00:00:00.000000000'],\n",
       "       ['2020-04-30T00:00:00.000000000'],\n",
       "       ['2020-05-01T00:00:00.000000000'],\n",
       "       ['2020-05-02T00:00:00.000000000'],\n",
       "       ['2020-05-03T00:00:00.000000000'],\n",
       "       ['2020-05-04T00:00:00.000000000'],\n",
       "       ['2020-05-05T00:00:00.000000000'],\n",
       "       ['2020-05-06T00:00:00.000000000'],\n",
       "       ['2020-05-07T00:00:00.000000000'],\n",
       "       ['2020-05-08T00:00:00.000000000'],\n",
       "       ['2020-05-09T00:00:00.000000000'],\n",
       "       ['2020-05-10T00:00:00.000000000'],\n",
       "       ['2020-05-11T00:00:00.000000000'],\n",
       "       ['2020-05-12T00:00:00.000000000'],\n",
       "       ['2020-05-13T00:00:00.000000000'],\n",
       "       ['2020-05-14T00:00:00.000000000'],\n",
       "       ['2020-05-15T00:00:00.000000000'],\n",
       "       ['2020-05-16T00:00:00.000000000'],\n",
       "       ['2020-05-17T00:00:00.000000000'],\n",
       "       ['2020-05-18T00:00:00.000000000'],\n",
       "       ['2020-05-19T00:00:00.000000000'],\n",
       "       ['2020-05-20T00:00:00.000000000'],\n",
       "       ['2020-05-21T00:00:00.000000000'],\n",
       "       ['2020-05-22T00:00:00.000000000'],\n",
       "       ['2020-05-23T00:00:00.000000000'],\n",
       "       ['2020-05-24T00:00:00.000000000'],\n",
       "       ['2020-05-25T00:00:00.000000000'],\n",
       "       ['2020-05-26T00:00:00.000000000'],\n",
       "       ['2020-05-27T00:00:00.000000000'],\n",
       "       ['2020-05-28T00:00:00.000000000'],\n",
       "       ['2020-05-29T00:00:00.000000000'],\n",
       "       ['2020-05-30T00:00:00.000000000'],\n",
       "       ['2020-05-31T00:00:00.000000000'],\n",
       "       ['2020-06-01T00:00:00.000000000'],\n",
       "       ['2020-06-02T00:00:00.000000000'],\n",
       "       ['2020-06-03T00:00:00.000000000'],\n",
       "       ['2020-06-04T00:00:00.000000000'],\n",
       "       ['2020-06-05T00:00:00.000000000'],\n",
       "       ['2020-06-06T00:00:00.000000000'],\n",
       "       ['2020-06-07T00:00:00.000000000']], dtype='datetime64[ns]')"
      ]
     },
     "execution_count": 21,
     "metadata": {},
     "output_type": "execute_result"
    }
   ],
   "source": [
    "X_train"
   ]
  },
  {
   "cell_type": "code",
   "execution_count": 22,
   "metadata": {},
   "outputs": [
    {
     "data": {
      "text/plain": [
       "array([['2020-06-08T00:00:00.000000000'],\n",
       "       ['2020-06-09T00:00:00.000000000'],\n",
       "       ['2020-06-10T00:00:00.000000000'],\n",
       "       ['2020-06-11T00:00:00.000000000'],\n",
       "       ['2020-06-12T00:00:00.000000000'],\n",
       "       ['2020-06-13T00:00:00.000000000'],\n",
       "       ['2020-06-14T00:00:00.000000000'],\n",
       "       ['2020-06-15T00:00:00.000000000'],\n",
       "       ['2020-06-16T00:00:00.000000000'],\n",
       "       ['2020-06-17T00:00:00.000000000'],\n",
       "       ['2020-06-18T00:00:00.000000000'],\n",
       "       ['2020-06-19T00:00:00.000000000'],\n",
       "       ['2020-06-20T00:00:00.000000000'],\n",
       "       ['2020-06-21T00:00:00.000000000'],\n",
       "       ['2020-06-22T00:00:00.000000000'],\n",
       "       ['2020-06-23T00:00:00.000000000'],\n",
       "       ['2020-06-24T00:00:00.000000000'],\n",
       "       ['2020-06-25T00:00:00.000000000']], dtype='datetime64[ns]')"
      ]
     },
     "execution_count": 22,
     "metadata": {},
     "output_type": "execute_result"
    }
   ],
   "source": [
    "X_test"
   ]
  },
  {
   "cell_type": "code",
   "execution_count": 23,
   "metadata": {},
   "outputs": [],
   "source": [
    "y_train = dataset.iloc[:85, 1].values\n",
    "y_test = dataset.iloc[86:,1].values"
   ]
  },
  {
   "cell_type": "code",
   "execution_count": 24,
   "metadata": {},
   "outputs": [
    {
     "data": {
      "text/plain": [
       "array([  0,   0,   1,   0,   1,   0,   0,   0,   0,   0,   0,   0,   1,\n",
       "         0,   0,   0,   0,   1,   1,   0,  15,   1,  18,   1,   2,   0,\n",
       "         6,   2,   4,   0,   1,   5,   0,   0,   0,   1,  13,   0,   5,\n",
       "         4,   6,   5,   6,   3,  15,   0,   7,  18,  11,   6,   2,   7,\n",
       "         8,  28,  14,  51,  82,  25,  38,  22, 101, 134,  65,   0,  91,\n",
       "        48, 102,  74,  51,  86,  80,  67, 102,  79,  76,  67,  63,  96,\n",
       "       129, 156, 141, 143,  90, 130, 173], dtype=int64)"
      ]
     },
     "execution_count": 24,
     "metadata": {},
     "output_type": "execute_result"
    }
   ],
   "source": [
    "y_train"
   ]
  },
  {
   "cell_type": "code",
   "execution_count": 25,
   "metadata": {},
   "outputs": [
    {
     "data": {
      "text/plain": [
       "array([138, 146, 110, 136, 112, 225, 186, 146, 108, 175, 174, 165, 179,\n",
       "       304, 143, 167, 282, 210], dtype=int64)"
      ]
     },
     "execution_count": 25,
     "metadata": {},
     "output_type": "execute_result"
    }
   ],
   "source": [
    "y_test"
   ]
  },
  {
   "cell_type": "code",
   "execution_count": 26,
   "metadata": {},
   "outputs": [
    {
     "data": {
      "text/plain": [
       "85"
      ]
     },
     "execution_count": 26,
     "metadata": {},
     "output_type": "execute_result"
    }
   ],
   "source": [
    "y_train.size"
   ]
  },
  {
   "cell_type": "code",
   "execution_count": 27,
   "metadata": {},
   "outputs": [
    {
     "data": {
      "text/plain": [
       "18"
      ]
     },
     "execution_count": 27,
     "metadata": {},
     "output_type": "execute_result"
    }
   ],
   "source": [
    "y_test.size"
   ]
  },
  {
   "cell_type": "code",
   "execution_count": 28,
   "metadata": {},
   "outputs": [
    {
     "data": {
      "text/plain": [
       "(85,)"
      ]
     },
     "execution_count": 28,
     "metadata": {},
     "output_type": "execute_result"
    }
   ],
   "source": [
    "y_train.shape"
   ]
  },
  {
   "cell_type": "code",
   "execution_count": 29,
   "metadata": {},
   "outputs": [
    {
     "data": {
      "text/plain": [
       "(18,)"
      ]
     },
     "execution_count": 29,
     "metadata": {},
     "output_type": "execute_result"
    }
   ],
   "source": [
    "y_test.shape"
   ]
  },
  {
   "cell_type": "code",
   "execution_count": 30,
   "metadata": {},
   "outputs": [],
   "source": [
    "y_train = y_train.reshape(-1,1)\n",
    "y_test = y_test.reshape(-1,1)"
   ]
  },
  {
   "cell_type": "code",
   "execution_count": 31,
   "metadata": {},
   "outputs": [
    {
     "data": {
      "text/plain": [
       "(85, 1)"
      ]
     },
     "execution_count": 31,
     "metadata": {},
     "output_type": "execute_result"
    }
   ],
   "source": [
    "y_train.shape"
   ]
  },
  {
   "cell_type": "code",
   "execution_count": 32,
   "metadata": {},
   "outputs": [
    {
     "data": {
      "text/plain": [
       "(18, 1)"
      ]
     },
     "execution_count": 32,
     "metadata": {},
     "output_type": "execute_result"
    }
   ],
   "source": [
    "y_test.shape"
   ]
  },
  {
   "cell_type": "code",
   "execution_count": 33,
   "metadata": {},
   "outputs": [
    {
     "data": {
      "text/plain": [
       "array([[  0],\n",
       "       [  0],\n",
       "       [  1],\n",
       "       [  0],\n",
       "       [  1],\n",
       "       [  0],\n",
       "       [  0],\n",
       "       [  0],\n",
       "       [  0],\n",
       "       [  0],\n",
       "       [  0],\n",
       "       [  0],\n",
       "       [  1],\n",
       "       [  0],\n",
       "       [  0],\n",
       "       [  0],\n",
       "       [  0],\n",
       "       [  1],\n",
       "       [  1],\n",
       "       [  0],\n",
       "       [ 15],\n",
       "       [  1],\n",
       "       [ 18],\n",
       "       [  1],\n",
       "       [  2],\n",
       "       [  0],\n",
       "       [  6],\n",
       "       [  2],\n",
       "       [  4],\n",
       "       [  0],\n",
       "       [  1],\n",
       "       [  5],\n",
       "       [  0],\n",
       "       [  0],\n",
       "       [  0],\n",
       "       [  1],\n",
       "       [ 13],\n",
       "       [  0],\n",
       "       [  5],\n",
       "       [  4],\n",
       "       [  6],\n",
       "       [  5],\n",
       "       [  6],\n",
       "       [  3],\n",
       "       [ 15],\n",
       "       [  0],\n",
       "       [  7],\n",
       "       [ 18],\n",
       "       [ 11],\n",
       "       [  6],\n",
       "       [  2],\n",
       "       [  7],\n",
       "       [  8],\n",
       "       [ 28],\n",
       "       [ 14],\n",
       "       [ 51],\n",
       "       [ 82],\n",
       "       [ 25],\n",
       "       [ 38],\n",
       "       [ 22],\n",
       "       [101],\n",
       "       [134],\n",
       "       [ 65],\n",
       "       [  0],\n",
       "       [ 91],\n",
       "       [ 48],\n",
       "       [102],\n",
       "       [ 74],\n",
       "       [ 51],\n",
       "       [ 86],\n",
       "       [ 80],\n",
       "       [ 67],\n",
       "       [102],\n",
       "       [ 79],\n",
       "       [ 76],\n",
       "       [ 67],\n",
       "       [ 63],\n",
       "       [ 96],\n",
       "       [129],\n",
       "       [156],\n",
       "       [141],\n",
       "       [143],\n",
       "       [ 90],\n",
       "       [130],\n",
       "       [173]], dtype=int64)"
      ]
     },
     "execution_count": 33,
     "metadata": {},
     "output_type": "execute_result"
    }
   ],
   "source": [
    "y_train"
   ]
  },
  {
   "cell_type": "code",
   "execution_count": 34,
   "metadata": {},
   "outputs": [
    {
     "data": {
      "text/plain": [
       "array([[138],\n",
       "       [146],\n",
       "       [110],\n",
       "       [136],\n",
       "       [112],\n",
       "       [225],\n",
       "       [186],\n",
       "       [146],\n",
       "       [108],\n",
       "       [175],\n",
       "       [174],\n",
       "       [165],\n",
       "       [179],\n",
       "       [304],\n",
       "       [143],\n",
       "       [167],\n",
       "       [282],\n",
       "       [210]], dtype=int64)"
      ]
     },
     "execution_count": 34,
     "metadata": {},
     "output_type": "execute_result"
    }
   ],
   "source": [
    "y_test"
   ]
  },
  {
   "cell_type": "code",
   "execution_count": 35,
   "metadata": {},
   "outputs": [],
   "source": [
    "# y"
   ]
  },
  {
   "cell_type": "code",
   "execution_count": 36,
   "metadata": {},
   "outputs": [],
   "source": [
    "# y.size"
   ]
  },
  {
   "cell_type": "code",
   "execution_count": 37,
   "metadata": {},
   "outputs": [],
   "source": [
    "# y.shape"
   ]
  },
  {
   "cell_type": "code",
   "execution_count": 38,
   "metadata": {},
   "outputs": [],
   "source": [
    "# y.reshape(-1,1)"
   ]
  },
  {
   "cell_type": "code",
   "execution_count": 39,
   "metadata": {},
   "outputs": [
    {
     "data": {
      "text/plain": [
       "LinearRegression(copy_X=True, fit_intercept=True, n_jobs=None, normalize=False)"
      ]
     },
     "execution_count": 39,
     "metadata": {},
     "output_type": "execute_result"
    }
   ],
   "source": [
    "from sklearn.linear_model import LinearRegression\n",
    "from sklearn.preprocessing import PolynomialFeatures\n",
    "poly_reg = PolynomialFeatures(degree = 16)\n",
    "X_poly = poly_reg.fit_transform(X_train)\n",
    "lin_reg_2 = LinearRegression()\n",
    "lin_reg_2.fit(X_poly, y_train)"
   ]
  },
  {
   "cell_type": "code",
   "execution_count": 40,
   "metadata": {},
   "outputs": [
    {
     "data": {
      "image/png": "[encoded data removed]",
      "text/plain": [
       "<Figure size 432x288 with 1 Axes>"
      ]
     },
     "metadata": {
      "needs_background": "light"
     },
     "output_type": "display_data"
    }
   ],
   "source": [
    "plt.scatter(X_train, y_train, color = 'red')\n",
    "plt.plot(X_train, lin_reg_2.predict(poly_reg.fit_transform(X_train)), color = 'blue')\n",
    "plt.title('Polynomial Regression')\n",
    "plt.xlabel('Date')\n",
    "plt.ylabel('Confirmed')\n",
    "plt.show()"
   ]
  },
  {
   "cell_type": "code",
   "execution_count": 41,
   "metadata": {},
   "outputs": [],
   "source": [
    "y_pred = lin_reg_2.predict(poly_reg.fit_transform(X_test))"
   ]
  },
  {
   "cell_type": "code",
   "execution_count": 42,
   "metadata": {},
   "outputs": [
    {
     "data": {
      "text/plain": [
       "(18, 1)"
      ]
     },
     "execution_count": 42,
     "metadata": {},
     "output_type": "execute_result"
    }
   ],
   "source": [
    "y_pred.shape"
   ]
  },
  {
   "cell_type": "code",
   "execution_count": 43,
   "metadata": {},
   "outputs": [
    {
     "data": {
      "text/plain": [
       "(18, 1)"
      ]
     },
     "execution_count": 43,
     "metadata": {},
     "output_type": "execute_result"
    }
   ],
   "source": [
    "y_test.shape"
   ]
  },
  {
   "cell_type": "code",
   "execution_count": 44,
   "metadata": {},
   "outputs": [
    {
     "data": {
      "text/plain": [
       "array([[ 98.37306084],\n",
       "       [ 99.93624768],\n",
       "       [101.50070786],\n",
       "       [103.06644235],\n",
       "       [104.6334521 ],\n",
       "       [106.20173809],\n",
       "       [107.77130129],\n",
       "       [109.34214267],\n",
       "       [110.91426321],\n",
       "       [112.48766387],\n",
       "       [114.06234562],\n",
       "       [115.63830945],\n",
       "       [117.21555632],\n",
       "       [118.79408721],\n",
       "       [120.37390309],\n",
       "       [121.95500495],\n",
       "       [123.53739375],\n",
       "       [125.12107048]])"
      ]
     },
     "execution_count": 44,
     "metadata": {},
     "output_type": "execute_result"
    }
   ],
   "source": [
    "y_pred"
   ]
  },
  {
   "cell_type": "code",
   "execution_count": 45,
   "metadata": {},
   "outputs": [
    {
     "data": {
      "text/plain": [
       "61.16132419974024"
      ]
     },
     "execution_count": 45,
     "metadata": {},
     "output_type": "execute_result"
    }
   ],
   "source": [
    "from sklearn.metrics import mean_absolute_error\n",
    "mean_absolute_error(y_pred, y_test)"
   ]
  },
  {
   "cell_type": "code",
   "execution_count": null,
   "metadata": {},
   "outputs": [],
   "source": []
  }
 ],
 "metadata": {
  "kernelspec": {
   "display_name": "Python 3",
   "language": "python",
   "name": "python3"
  },
  "language_info": {
   "codemirror_mode": {
    "name": "ipython",
    "version": 3
   },
   "file_extension": ".py",
   "mimetype": "text/x-python",
   "name": "python",
   "nbconvert_exporter": "python",
   "pygments_lexer": "ipython3",
   "version": "3.7.6"
  }
 },
 "nbformat": 4,
 "nbformat_minor": 4
}
